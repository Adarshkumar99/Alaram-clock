{
 "cells": [
  {
   "cell_type": "code",
   "execution_count": 1,
   "metadata": {},
   "outputs": [],
   "source": [
    "from tkinter import *\n",
    "from tkinter import ttk\n",
    "import time\n",
    "import os\n",
    "import sys\n",
    "from tkinter import messagebox\n",
    "\n",
    "#def main():\n",
    "root = Tk()\n",
    "root.title(\"alarm clock\")\n",
    "def SubmitButton():\n",
    "  alarmTime= entry1.get()\n",
    "  Message1()\n",
    "  CurrentTime = time.strftime(\"%H:%M\")\n",
    "  print(\"the alarm time is: {}\".format(AlarmTime))\n",
    "  while AlarmTime != CurrentTime:\n",
    "    CurrentTime = time.strftime(\"%H:%M\")\n",
    "    time.sleep(1)\n",
    "  if AlarmTime == CurrentTime:\n",
    "     print(\"now Alarm Musing Playing\")\n",
    "     sys.system(\"13767_morning_alarm.mp3\")\n",
    "     label2.config(text = \"Alarm music playing.....\")\n",
    "     Messagebox.showinfo(title= 'Alarm Message', message= \"{}\".format(entry2.get()))\n",
    "def Message1():\n",
    "    AlarmTimeLable= entry1.get()\n",
    "    label2.config(text=\"the Alarm time is Counting...\")\n",
    "    messagebox.showinfo(title = 'Alarm clock', message = 'Alarm will Ring at {}'.format(AlarmTimeLable))     \n",
    "frame1 = ttk.Frame(root)\n",
    "frame1.pack()\n",
    "frame1.config(height = 100, width = 100)\n",
    "\n",
    "label1= ttk.Label(frame1,text = \"Enter the Alarm time :\")\n",
    "label1.pack()\n",
    "\n",
    "\n",
    "entry1 = ttk.Entry(frame1, width = 30)\n",
    "entry1.pack()\n",
    "entry1.insert(3,\"example - 13:15\")\n",
    "\n",
    "labelAlarmMessage= ttk.Label(frame1, text=\"Alarm Message:\")\n",
    "labelAlarmMessage.pack()\n",
    "\n",
    "entry2= ttk.Entry(frame1, width=30)\n",
    "entry2.pack()\n",
    "\n",
    "button1= ttk.Button(frame1, text= \"submit\", command=SubmitButton)\n",
    "button1.pack()\n",
    "label2= ttk.Label(frame1)\n",
    "label2.pack()\n",
    "\n",
    "    \n",
    "\n",
    "root.mainloop()"
   ]
  },
  {
   "cell_type": "code",
   "execution_count": null,
   "metadata": {},
   "outputs": [],
   "source": []
  }
 ],
 "metadata": {
  "kernelspec": {
   "display_name": "Python 3",
   "language": "python",
   "name": "python3"
  },
  "language_info": {
   "codemirror_mode": {
    "name": "ipython",
    "version": 3
   },
   "file_extension": ".py",
   "mimetype": "text/x-python",
   "name": "python",
   "nbconvert_exporter": "python",
   "pygments_lexer": "ipython3",
   "version": "3.7.3"
  }
 },
 "nbformat": 4,
 "nbformat_minor": 2
}
